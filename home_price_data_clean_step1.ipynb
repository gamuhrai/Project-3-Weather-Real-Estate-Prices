{
 "cells": [
  {
   "cell_type": "code",
   "execution_count": 5,
   "metadata": {},
   "outputs": [],
   "source": [
    "import pandas as pd"
   ]
  },
  {
   "cell_type": "code",
   "execution_count": 6,
   "metadata": {},
   "outputs": [],
   "source": [
    "# Read the CSV into a DataFrame\n",
    "df = pd.read_csv('/Users/jeanjin/Desktop/DSBC/project_3/data/1b.csv')\n",
    "\n",
    "# Get column names as a list\n",
    "cols = df.columns.tolist()\n",
    "\n",
    "# Find the positions of 'I' and 'HX' columns\n",
    "start_idx = cols.index('2000-01-31')\n",
    "end_idx = cols.index('2018-09-30')\n",
    "\n",
    "# Drop columns between 'I' and 'HX' (inclusive)\n",
    "df.drop(cols[start_idx:end_idx+1], axis=1, inplace=True)\n",
    "\n",
    "# Save the modified DataFrame back to the CSV\n",
    "df.to_csv('1b_5yrs.csv', index=False)\n"
   ]
  },
  {
   "cell_type": "code",
   "execution_count": 7,
   "metadata": {},
   "outputs": [],
   "source": [
    "# Read the CSV into a DataFrame\n",
    "df = pd.read_csv('/Users/jeanjin/Desktop/DSBC/project_3/data/2b.csv')\n",
    "\n",
    "# Get column names as a list\n",
    "cols = df.columns.tolist()\n",
    "\n",
    "# Find the positions of 'I' and 'HX' columns\n",
    "start_idx = cols.index('2000-01-31')\n",
    "end_idx = cols.index('2018-09-30')\n",
    "\n",
    "# Drop columns between 'I' and 'HX' (inclusive)\n",
    "df.drop(cols[start_idx:end_idx+1], axis=1, inplace=True)\n",
    "\n",
    "# Save the modified DataFrame back to the CSV\n",
    "df.to_csv('2b_5yrs.csv', index=False)\n"
   ]
  },
  {
   "cell_type": "code",
   "execution_count": 8,
   "metadata": {},
   "outputs": [],
   "source": [
    "# Read the CSV into a DataFrame\n",
    "df = pd.read_csv('/Users/jeanjin/Desktop/DSBC/project_3/data/3b.csv')\n",
    "\n",
    "# Get column names as a list\n",
    "cols = df.columns.tolist()\n",
    "\n",
    "# Find the positions of 'I' and 'HX' columns\n",
    "start_idx = cols.index('2000-01-31')\n",
    "end_idx = cols.index('2018-09-30')\n",
    "\n",
    "# Drop columns between 'I' and 'HX' (inclusive)\n",
    "df.drop(cols[start_idx:end_idx+1], axis=1, inplace=True)\n",
    "\n",
    "# Save the modified DataFrame back to the CSV\n",
    "df.to_csv('3b_5yrs.csv', index=False)\n"
   ]
  }
 ],
 "metadata": {
  "kernelspec": {
   "display_name": "dev",
   "language": "python",
   "name": "python3"
  },
  "language_info": {
   "codemirror_mode": {
    "name": "ipython",
    "version": 3
   },
   "file_extension": ".py",
   "mimetype": "text/x-python",
   "name": "python",
   "nbconvert_exporter": "python",
   "pygments_lexer": "ipython3",
   "version": "3.10.12"
  }
 },
 "nbformat": 4,
 "nbformat_minor": 2
}
