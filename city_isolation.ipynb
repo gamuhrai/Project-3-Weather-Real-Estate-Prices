{
 "cells": [
  {
   "cell_type": "code",
   "execution_count": 15,
   "metadata": {},
   "outputs": [],
   "source": [
    "import pandas as pd"
   ]
  },
  {
   "cell_type": "code",
   "execution_count": 16,
   "metadata": {},
   "outputs": [],
   "source": [
    "df1 = pd.read_csv('1b_5yrs.csv')\n",
    "df2 = pd.read_csv('2b_5yrs.csv')\n",
    "df3 = pd.read_csv('3b_5yrs.csv')\n"
   ]
  },
  {
   "cell_type": "code",
   "execution_count": null,
   "metadata": {},
   "outputs": [],
   "source": [
    "print(df1)"
   ]
  },
  {
   "cell_type": "code",
   "execution_count": null,
   "metadata": {},
   "outputs": [],
   "source": [
    "print(df2)"
   ]
  },
  {
   "cell_type": "code",
   "execution_count": null,
   "metadata": {},
   "outputs": [],
   "source": [
    "print(df3)"
   ]
  },
  {
   "cell_type": "code",
   "execution_count": 17,
   "metadata": {},
   "outputs": [],
   "source": [
    "cities_to_keep = [\"New York\", \"Boston\", \"Miami\", \"Atlanta\", \"Chicago\", \"Minneapolis\", \"Dallas\", \"Houston\", \"Los Angeles\", \n",
    "                  \"San Francisco\", \"Seattle\", \"Denver\", \"Phoenix\", \"Las Vegas\"]\n",
    "max_size_rank = 53\n",
    "\n",
    "df1_filtered = df1[df1['RegionName'].isin(cities_to_keep) & (df1['SizeRank'] <= max_size_rank)]\n",
    "df2_filtered = df2[df2['RegionName'].isin(cities_to_keep) & (df2['SizeRank'] <= max_size_rank)]\n",
    "df3_filtered = df3[df3['RegionName'].isin(cities_to_keep) & (df3['SizeRank'] <= max_size_rank)]\n",
    "\n"
   ]
  },
  {
   "cell_type": "code",
   "execution_count": null,
   "metadata": {},
   "outputs": [],
   "source": [
    "print(df1_filtered)"
   ]
  },
  {
   "cell_type": "code",
   "execution_count": null,
   "metadata": {},
   "outputs": [],
   "source": [
    "print(df2_filtered)"
   ]
  },
  {
   "cell_type": "code",
   "execution_count": null,
   "metadata": {},
   "outputs": [],
   "source": [
    "print(df3_filtered)"
   ]
  },
  {
   "cell_type": "code",
   "execution_count": 19,
   "metadata": {},
   "outputs": [],
   "source": [
    "df1_filtered.to_csv('1b_5yrs_filtered.csv', index=False)\n",
    "df2_filtered.to_csv('2b_5yrs_filtered.csv', index=False)\n",
    "df3_filtered.to_csv('3b_5yrs_filtered.csv', index=False)"
   ]
  },
  {
   "cell_type": "code",
   "execution_count": 23,
   "metadata": {},
   "outputs": [
    {
     "name": "stderr",
     "output_type": "stream",
     "text": [
      "C:\\Users\\crowl\\AppData\\Local\\Temp\\ipykernel_28992\\486707697.py:1: SettingWithCopyWarning: \n",
      "A value is trying to be set on a copy of a slice from a DataFrame\n",
      "\n",
      "See the caveats in the documentation: https://pandas.pydata.org/pandas-docs/stable/user_guide/indexing.html#returning-a-view-versus-a-copy\n",
      "  df1_filtered.loc['Source'] = '1 Bedroom'\n",
      "C:\\Users\\crowl\\AppData\\Local\\Temp\\ipykernel_28992\\486707697.py:2: SettingWithCopyWarning: \n",
      "A value is trying to be set on a copy of a slice from a DataFrame\n",
      "\n",
      "See the caveats in the documentation: https://pandas.pydata.org/pandas-docs/stable/user_guide/indexing.html#returning-a-view-versus-a-copy\n",
      "  df2_filtered.loc['Source'] = '2 Bedroom'\n",
      "C:\\Users\\crowl\\AppData\\Local\\Temp\\ipykernel_28992\\486707697.py:3: SettingWithCopyWarning: \n",
      "A value is trying to be set on a copy of a slice from a DataFrame\n",
      "\n",
      "See the caveats in the documentation: https://pandas.pydata.org/pandas-docs/stable/user_guide/indexing.html#returning-a-view-versus-a-copy\n",
      "  df3_filtered.loc['Source'] = '3 Bedroom'\n"
     ]
    }
   ],
   "source": [
    "df1_filtered.loc['Source'] = '1 Bedroom'\n",
    "df2_filtered.loc['Source'] = '2 Bedroom'\n",
    "df3_filtered.loc['Source'] = '3 Bedroom'"
   ]
  }
 ],
 "metadata": {
  "kernelspec": {
   "display_name": "base",
   "language": "python",
   "name": "python3"
  },
  "language_info": {
   "codemirror_mode": {
    "name": "ipython",
    "version": 3
   },
   "file_extension": ".py",
   "mimetype": "text/x-python",
   "name": "python",
   "nbconvert_exporter": "python",
   "pygments_lexer": "ipython3",
   "version": "3.11.3"
  }
 },
 "nbformat": 4,
 "nbformat_minor": 2
}
