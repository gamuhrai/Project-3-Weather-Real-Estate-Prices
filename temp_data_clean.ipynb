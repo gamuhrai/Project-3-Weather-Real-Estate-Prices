{
 "cells": [
  {
   "cell_type": "code",
   "execution_count": 7,
   "metadata": {},
   "outputs": [],
   "source": [
    "import pandas as pd\n",
    "\n",
    "# List of filenames and corresponding city names\n",
    "files = [\"/Users/jeanjin/Desktop/DSBC/project_3/data/temp/atlanta.csv\",\n",
    "            \"/Users/jeanjin/Desktop/DSBC/project_3/data/temp/boston.csv\",\n",
    "            \"/Users/jeanjin/Desktop/DSBC/project_3/data/temp/chicago.csv\",\n",
    "            \"/Users/jeanjin/Desktop/DSBC/project_3/data/temp/dallas.csv\", \n",
    "            \"/Users/jeanjin/Desktop/DSBC/project_3/data/temp/denver.csv\", \n",
    "            \"/Users/jeanjin/Desktop/DSBC/project_3/data/temp/houston.csv\", \n",
    "            \"/Users/jeanjin/Desktop/DSBC/project_3/data/temp/la.csv\", \n",
    "            \"/Users/jeanjin/Desktop/DSBC/project_3/data/temp/miami.csv\", \n",
    "            \"/Users/jeanjin/Desktop/DSBC/project_3/data/temp/minneapolis.csv\", \n",
    "            \"/Users/jeanjin/Desktop/DSBC/project_3/data/temp/nyc.csv\", \n",
    "            \"/Users/jeanjin/Desktop/DSBC/project_3/data/temp/phoenix.csv\", \n",
    "            \"/Users/jeanjin/Desktop/DSBC/project_3/data/temp/seattle.csv\", \n",
    "            \"/Users/jeanjin/Desktop/DSBC/project_3/data/temp/sf.csv\", \n",
    "            \"vegas.csv\"]  # Add all 14 filenames here\n",
    "cities = [\"Atlanta\", \"Boston\", \"Chicago\", \"Dallas\", \"Denver\", \"Houston\", \"Los Angeles\", \"Miami\", \"Minneapolis\", \"New_York\", \"Phoenix\", \"Seattle\", \"San Francisco\", \"Las Vegas\", ...]  # Add all 14 city names corresponding to the filenames\n",
    "\n",
    "# Initialize a list to store dataframes\n",
    "dfs = []\n",
    "\n",
    "for file, city in zip(files, cities):\n",
    "    # Specify that the header is at row 3 (0-indexed, so 4th row in the sheet)\n",
    "    df = pd.read_csv(file, header=2)\n",
    "    \n",
    "    # Select only the columns of interest\n",
    "    df = df[[\"time\", \"temperature_2m_mean (°F)\", \"temperature_2m_max (°F)\", \"temperature_2m_min (°F)\"]]\n",
    "    \n",
    "    # Rename columns to include city name\n",
    "    df = df.rename(columns={\n",
    "        \"temperature_2m_mean (°F)\": f\"temperature_2m_mean_{city}\",\n",
    "        \"temperature_2m_max (°F)\": f\"temperature_2m_max_{city}\",\n",
    "        \"temperature_2m_min (°F)\": f\"temperature_2m_min_{city}\"\n",
    "    })\n",
    "    \n",
    "    dfs.append(df)\n",
    "\n",
    "# Merge all dataframes on the \"time\" column\n",
    "merged_df = dfs[0]\n",
    "for df in dfs[1:]:\n",
    "    merged_df = merged_df.merge(df, on=\"time\")\n",
    "\n",
    "# Save the combined dataframe to a new CSV\n",
    "merged_df.to_csv(\"combined_temperatures.csv\", index=False)\n"
   ]
  },
  {
   "cell_type": "code",
   "execution_count": 5,
   "metadata": {},
   "outputs": [
    {
     "name": "stdout",
     "output_type": "stream",
     "text": [
      "Index(['time', 'temperature_2m_mean (°F)', 'temperature_2m_max (°F)',\n",
      "       'temperature_2m_min (°F)'],\n",
      "      dtype='object')\n"
     ]
    }
   ],
   "source": [
    "df = pd.read_csv('chicago.csv', header=2)\n",
    "print(df.columns)\n"
   ]
  },
  {
   "cell_type": "code",
   "execution_count": null,
   "metadata": {},
   "outputs": [],
   "source": []
  }
 ],
 "metadata": {
  "kernelspec": {
   "display_name": "dev",
   "language": "python",
   "name": "python3"
  },
  "language_info": {
   "codemirror_mode": {
    "name": "ipython",
    "version": 3
   },
   "file_extension": ".py",
   "mimetype": "text/x-python",
   "name": "python",
   "nbconvert_exporter": "python",
   "pygments_lexer": "ipython3",
   "version": "3.10.12"
  }
 },
 "nbformat": 4,
 "nbformat_minor": 2
}
